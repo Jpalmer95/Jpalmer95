{
  "nbformat": 4,
  "nbformat_minor": 0,
  "metadata": {
    "colab": {
      "provenance": [],
      "include_colab_link": true
    },
    "kernelspec": {
      "name": "python3",
      "display_name": "Python 3"
    },
    "language_info": {
      "name": "python"
    },
    "accelerator": "GPU"
  },
  "cells": [
    {
      "cell_type": "markdown",
      "metadata": {
        "id": "view-in-github",
        "colab_type": "text"
      },
      "source": [
        "<a href=\"https://colab.research.google.com/github/Jpalmer95/Jpalmer95/blob/main/Tensorflow_2.6.0_Keras.ipynb\" target=\"_parent\"><img src=\"https://colab.research.google.com/assets/colab-badge.svg\" alt=\"Open In Colab\"/></a>"
      ]
    },
    {
      "cell_type": "markdown",
      "metadata": {
        "id": "aq32tNFIerwJ"
      },
      "source": [
        "<p><img alt=\"Colaboratory logo\" height=\"55px\" src=\"https://www.gstatic.com/devrel-devsite/prod/vf0396724755d04dbab75050e6812ced8fb2ab11d424163deba5826536b4b1964/tensorflow/images/lockup.svg\" align=\"left\" hspace=\"10px\" vspace=\"0px\"></p>\n",
        "\n",
        "<p><img alt=\"Colaboratory logo\" height=\"55px\" src=\"https://keras.io/img/logo.png\" align=\"left\" hspace=\"10px\" vspace=\"0px\"></p>\n",
        "\n"
      ]
    },
    {
      "cell_type": "markdown",
      "metadata": {
        "id": "bhniAXPDYmxJ"
      },
      "source": [
        "Table of contents:\n",
        "- [Tensorflow & Keras](#TF-KS)\n",
        "- [Dataset](#Dataset)\n",
        "- [Training](#Training)\n"
      ]
    },
    {
      "cell_type": "markdown",
      "metadata": {
        "id": "n0Ct1ml0a0FB"
      },
      "source": [
        "<a name=\"TF-KS\"></a>\n",
        "## **Tensorflow and Keras**\n",
        "\n"
      ]
    },
    {
      "cell_type": "code",
      "metadata": {
        "id": "HQ_CtusmnLpd",
        "colab": {
          "base_uri": "https://localhost:8080/"
        },
        "outputId": "5b6a49ed-9e94-4bf5-a291-07a8451ffe4f"
      },
      "source": [
        "import tensorflow as tf\n",
        "print(tf.__version__)"
      ],
      "execution_count": 21,
      "outputs": [
        {
          "output_type": "stream",
          "name": "stdout",
          "text": [
            "2.15.0\n"
          ]
        }
      ]
    },
    {
      "cell_type": "markdown",
      "metadata": {
        "id": "mR78a4QIbEow"
      },
      "source": [
        "<a name=\"Dataset\"></a>\n",
        "## **Dataset**\n"
      ]
    },
    {
      "cell_type": "markdown",
      "metadata": {
        "id": "SGHwaOOxQXJe"
      },
      "source": [
        "> Used Cars\n",
        "<p><img alt=\"Colaboratory logo\" height=\"55px\" src=\"https://upload.wikimedia.org/wikipedia/commons/thumb/9/99/GAZ-24_Volga.svg/640px-GAZ-24_Volga.svg.png\" align=\"left\" hspace=\"10px\" vspace=\"0px\"></p>"
      ]
    },
    {
      "cell_type": "code",
      "metadata": {
        "colab": {
          "base_uri": "https://localhost:8080/"
        },
        "id": "tVe2wKVGSwIV",
        "outputId": "fa6b5411-862f-4c9f-e492-10b17271491a"
      },
      "source": [
        "from google.colab import drive\n",
        "drive.mount('/content/drive/')"
      ],
      "execution_count": 22,
      "outputs": [
        {
          "output_type": "stream",
          "name": "stdout",
          "text": [
            "Drive already mounted at /content/drive/; to attempt to forcibly remount, call drive.mount(\"/content/drive/\", force_remount=True).\n"
          ]
        }
      ]
    },
    {
      "cell_type": "code",
      "metadata": {
        "colab": {
          "base_uri": "https://localhost:8080/",
          "height": 206
        },
        "id": "59_A44_uS6PP",
        "outputId": "fe422b79-0cfc-4231-c0ab-1a2ce6219876"
      },
      "source": [
        "import pandas as pd\n",
        "data = pd.read_csv(\"/content/drive/My Drive/AIML_UT/ann_used_cars1.csv\", usecols=[\"mileage\", 'year', \"price\"])\n",
        "data.head()"
      ],
      "execution_count": 20,
      "outputs": [
        {
          "output_type": "execute_result",
          "data": {
            "text/plain": [
              "   year  price  mileage\n",
              "0  2011  21992     7413\n",
              "1  2011  20995    10926\n",
              "2  2011  19995     7351\n",
              "3  2011  17809    11613\n",
              "4  2012  17500     8367"
            ],
            "text/html": [
              "\n",
              "  <div id=\"df-46ecdc56-fef1-4ba9-9053-89b2c33c0e36\" class=\"colab-df-container\">\n",
              "    <div>\n",
              "<style scoped>\n",
              "    .dataframe tbody tr th:only-of-type {\n",
              "        vertical-align: middle;\n",
              "    }\n",
              "\n",
              "    .dataframe tbody tr th {\n",
              "        vertical-align: top;\n",
              "    }\n",
              "\n",
              "    .dataframe thead th {\n",
              "        text-align: right;\n",
              "    }\n",
              "</style>\n",
              "<table border=\"1\" class=\"dataframe\">\n",
              "  <thead>\n",
              "    <tr style=\"text-align: right;\">\n",
              "      <th></th>\n",
              "      <th>year</th>\n",
              "      <th>price</th>\n",
              "      <th>mileage</th>\n",
              "    </tr>\n",
              "  </thead>\n",
              "  <tbody>\n",
              "    <tr>\n",
              "      <th>0</th>\n",
              "      <td>2011</td>\n",
              "      <td>21992</td>\n",
              "      <td>7413</td>\n",
              "    </tr>\n",
              "    <tr>\n",
              "      <th>1</th>\n",
              "      <td>2011</td>\n",
              "      <td>20995</td>\n",
              "      <td>10926</td>\n",
              "    </tr>\n",
              "    <tr>\n",
              "      <th>2</th>\n",
              "      <td>2011</td>\n",
              "      <td>19995</td>\n",
              "      <td>7351</td>\n",
              "    </tr>\n",
              "    <tr>\n",
              "      <th>3</th>\n",
              "      <td>2011</td>\n",
              "      <td>17809</td>\n",
              "      <td>11613</td>\n",
              "    </tr>\n",
              "    <tr>\n",
              "      <th>4</th>\n",
              "      <td>2012</td>\n",
              "      <td>17500</td>\n",
              "      <td>8367</td>\n",
              "    </tr>\n",
              "  </tbody>\n",
              "</table>\n",
              "</div>\n",
              "    <div class=\"colab-df-buttons\">\n",
              "\n",
              "  <div class=\"colab-df-container\">\n",
              "    <button class=\"colab-df-convert\" onclick=\"convertToInteractive('df-46ecdc56-fef1-4ba9-9053-89b2c33c0e36')\"\n",
              "            title=\"Convert this dataframe to an interactive table.\"\n",
              "            style=\"display:none;\">\n",
              "\n",
              "  <svg xmlns=\"http://www.w3.org/2000/svg\" height=\"24px\" viewBox=\"0 -960 960 960\">\n",
              "    <path d=\"M120-120v-720h720v720H120Zm60-500h600v-160H180v160Zm220 220h160v-160H400v160Zm0 220h160v-160H400v160ZM180-400h160v-160H180v160Zm440 0h160v-160H620v160ZM180-180h160v-160H180v160Zm440 0h160v-160H620v160Z\"/>\n",
              "  </svg>\n",
              "    </button>\n",
              "\n",
              "  <style>\n",
              "    .colab-df-container {\n",
              "      display:flex;\n",
              "      gap: 12px;\n",
              "    }\n",
              "\n",
              "    .colab-df-convert {\n",
              "      background-color: #E8F0FE;\n",
              "      border: none;\n",
              "      border-radius: 50%;\n",
              "      cursor: pointer;\n",
              "      display: none;\n",
              "      fill: #1967D2;\n",
              "      height: 32px;\n",
              "      padding: 0 0 0 0;\n",
              "      width: 32px;\n",
              "    }\n",
              "\n",
              "    .colab-df-convert:hover {\n",
              "      background-color: #E2EBFA;\n",
              "      box-shadow: 0px 1px 2px rgba(60, 64, 67, 0.3), 0px 1px 3px 1px rgba(60, 64, 67, 0.15);\n",
              "      fill: #174EA6;\n",
              "    }\n",
              "\n",
              "    .colab-df-buttons div {\n",
              "      margin-bottom: 4px;\n",
              "    }\n",
              "\n",
              "    [theme=dark] .colab-df-convert {\n",
              "      background-color: #3B4455;\n",
              "      fill: #D2E3FC;\n",
              "    }\n",
              "\n",
              "    [theme=dark] .colab-df-convert:hover {\n",
              "      background-color: #434B5C;\n",
              "      box-shadow: 0px 1px 3px 1px rgba(0, 0, 0, 0.15);\n",
              "      filter: drop-shadow(0px 1px 2px rgba(0, 0, 0, 0.3));\n",
              "      fill: #FFFFFF;\n",
              "    }\n",
              "  </style>\n",
              "\n",
              "    <script>\n",
              "      const buttonEl =\n",
              "        document.querySelector('#df-46ecdc56-fef1-4ba9-9053-89b2c33c0e36 button.colab-df-convert');\n",
              "      buttonEl.style.display =\n",
              "        google.colab.kernel.accessAllowed ? 'block' : 'none';\n",
              "\n",
              "      async function convertToInteractive(key) {\n",
              "        const element = document.querySelector('#df-46ecdc56-fef1-4ba9-9053-89b2c33c0e36');\n",
              "        const dataTable =\n",
              "          await google.colab.kernel.invokeFunction('convertToInteractive',\n",
              "                                                    [key], {});\n",
              "        if (!dataTable) return;\n",
              "\n",
              "        const docLinkHtml = 'Like what you see? Visit the ' +\n",
              "          '<a target=\"_blank\" href=https://colab.research.google.com/notebooks/data_table.ipynb>data table notebook</a>'\n",
              "          + ' to learn more about interactive tables.';\n",
              "        element.innerHTML = '';\n",
              "        dataTable['output_type'] = 'display_data';\n",
              "        await google.colab.output.renderOutput(dataTable, element);\n",
              "        const docLink = document.createElement('div');\n",
              "        docLink.innerHTML = docLinkHtml;\n",
              "        element.appendChild(docLink);\n",
              "      }\n",
              "    </script>\n",
              "  </div>\n",
              "\n",
              "\n",
              "<div id=\"df-c4a21445-8cef-4a6b-9c1b-033b25d35f26\">\n",
              "  <button class=\"colab-df-quickchart\" onclick=\"quickchart('df-c4a21445-8cef-4a6b-9c1b-033b25d35f26')\"\n",
              "            title=\"Suggest charts\"\n",
              "            style=\"display:none;\">\n",
              "\n",
              "<svg xmlns=\"http://www.w3.org/2000/svg\" height=\"24px\"viewBox=\"0 0 24 24\"\n",
              "     width=\"24px\">\n",
              "    <g>\n",
              "        <path d=\"M19 3H5c-1.1 0-2 .9-2 2v14c0 1.1.9 2 2 2h14c1.1 0 2-.9 2-2V5c0-1.1-.9-2-2-2zM9 17H7v-7h2v7zm4 0h-2V7h2v10zm4 0h-2v-4h2v4z\"/>\n",
              "    </g>\n",
              "</svg>\n",
              "  </button>\n",
              "\n",
              "<style>\n",
              "  .colab-df-quickchart {\n",
              "      --bg-color: #E8F0FE;\n",
              "      --fill-color: #1967D2;\n",
              "      --hover-bg-color: #E2EBFA;\n",
              "      --hover-fill-color: #174EA6;\n",
              "      --disabled-fill-color: #AAA;\n",
              "      --disabled-bg-color: #DDD;\n",
              "  }\n",
              "\n",
              "  [theme=dark] .colab-df-quickchart {\n",
              "      --bg-color: #3B4455;\n",
              "      --fill-color: #D2E3FC;\n",
              "      --hover-bg-color: #434B5C;\n",
              "      --hover-fill-color: #FFFFFF;\n",
              "      --disabled-bg-color: #3B4455;\n",
              "      --disabled-fill-color: #666;\n",
              "  }\n",
              "\n",
              "  .colab-df-quickchart {\n",
              "    background-color: var(--bg-color);\n",
              "    border: none;\n",
              "    border-radius: 50%;\n",
              "    cursor: pointer;\n",
              "    display: none;\n",
              "    fill: var(--fill-color);\n",
              "    height: 32px;\n",
              "    padding: 0;\n",
              "    width: 32px;\n",
              "  }\n",
              "\n",
              "  .colab-df-quickchart:hover {\n",
              "    background-color: var(--hover-bg-color);\n",
              "    box-shadow: 0 1px 2px rgba(60, 64, 67, 0.3), 0 1px 3px 1px rgba(60, 64, 67, 0.15);\n",
              "    fill: var(--button-hover-fill-color);\n",
              "  }\n",
              "\n",
              "  .colab-df-quickchart-complete:disabled,\n",
              "  .colab-df-quickchart-complete:disabled:hover {\n",
              "    background-color: var(--disabled-bg-color);\n",
              "    fill: var(--disabled-fill-color);\n",
              "    box-shadow: none;\n",
              "  }\n",
              "\n",
              "  .colab-df-spinner {\n",
              "    border: 2px solid var(--fill-color);\n",
              "    border-color: transparent;\n",
              "    border-bottom-color: var(--fill-color);\n",
              "    animation:\n",
              "      spin 1s steps(1) infinite;\n",
              "  }\n",
              "\n",
              "  @keyframes spin {\n",
              "    0% {\n",
              "      border-color: transparent;\n",
              "      border-bottom-color: var(--fill-color);\n",
              "      border-left-color: var(--fill-color);\n",
              "    }\n",
              "    20% {\n",
              "      border-color: transparent;\n",
              "      border-left-color: var(--fill-color);\n",
              "      border-top-color: var(--fill-color);\n",
              "    }\n",
              "    30% {\n",
              "      border-color: transparent;\n",
              "      border-left-color: var(--fill-color);\n",
              "      border-top-color: var(--fill-color);\n",
              "      border-right-color: var(--fill-color);\n",
              "    }\n",
              "    40% {\n",
              "      border-color: transparent;\n",
              "      border-right-color: var(--fill-color);\n",
              "      border-top-color: var(--fill-color);\n",
              "    }\n",
              "    60% {\n",
              "      border-color: transparent;\n",
              "      border-right-color: var(--fill-color);\n",
              "    }\n",
              "    80% {\n",
              "      border-color: transparent;\n",
              "      border-right-color: var(--fill-color);\n",
              "      border-bottom-color: var(--fill-color);\n",
              "    }\n",
              "    90% {\n",
              "      border-color: transparent;\n",
              "      border-bottom-color: var(--fill-color);\n",
              "    }\n",
              "  }\n",
              "</style>\n",
              "\n",
              "  <script>\n",
              "    async function quickchart(key) {\n",
              "      const quickchartButtonEl =\n",
              "        document.querySelector('#' + key + ' button');\n",
              "      quickchartButtonEl.disabled = true;  // To prevent multiple clicks.\n",
              "      quickchartButtonEl.classList.add('colab-df-spinner');\n",
              "      try {\n",
              "        const charts = await google.colab.kernel.invokeFunction(\n",
              "            'suggestCharts', [key], {});\n",
              "      } catch (error) {\n",
              "        console.error('Error during call to suggestCharts:', error);\n",
              "      }\n",
              "      quickchartButtonEl.classList.remove('colab-df-spinner');\n",
              "      quickchartButtonEl.classList.add('colab-df-quickchart-complete');\n",
              "    }\n",
              "    (() => {\n",
              "      let quickchartButtonEl =\n",
              "        document.querySelector('#df-c4a21445-8cef-4a6b-9c1b-033b25d35f26 button');\n",
              "      quickchartButtonEl.style.display =\n",
              "        google.colab.kernel.accessAllowed ? 'block' : 'none';\n",
              "    })();\n",
              "  </script>\n",
              "</div>\n",
              "\n",
              "    </div>\n",
              "  </div>\n"
            ],
            "application/vnd.google.colaboratory.intrinsic+json": {
              "type": "dataframe",
              "variable_name": "data",
              "summary": "{\n  \"name\": \"data\",\n  \"rows\": 150,\n  \"fields\": [\n    {\n      \"column\": \"year\",\n      \"properties\": {\n        \"dtype\": \"number\",\n        \"std\": 2,\n        \"min\": 2000,\n        \"max\": 2012,\n        \"num_unique_values\": 13,\n        \"samples\": [\n          2002,\n          2004,\n          2011\n        ],\n        \"semantic_type\": \"\",\n        \"description\": \"\"\n      }\n    },\n    {\n      \"column\": \"price\",\n      \"properties\": {\n        \"dtype\": \"number\",\n        \"std\": 3122,\n        \"min\": 3800,\n        \"max\": 21992,\n        \"num_unique_values\": 117,\n        \"samples\": [\n          13995,\n          17500,\n          13687\n        ],\n        \"semantic_type\": \"\",\n        \"description\": \"\"\n      }\n    },\n    {\n      \"column\": \"mileage\",\n      \"properties\": {\n        \"dtype\": \"number\",\n        \"std\": 26982,\n        \"min\": 4867,\n        \"max\": 151479,\n        \"num_unique_values\": 150,\n        \"samples\": [\n          27528,\n          11662,\n          77231\n        ],\n        \"semantic_type\": \"\",\n        \"description\": \"\"\n      }\n    }\n  ]\n}"
            }
          },
          "metadata": {},
          "execution_count": 20
        }
      ]
    },
    {
      "cell_type": "code",
      "metadata": {
        "id": "xm04xHez9rF_"
      },
      "source": [
        "from sklearn.model_selection import train_test_split\n",
        "X_train, X_test, y_train, y_test = train_test_split(data[['mileage','year']], data['price'], test_size=0.3, random_state=42)"
      ],
      "execution_count": 23,
      "outputs": []
    },
    {
      "cell_type": "markdown",
      "metadata": {
        "id": "qbwcucURbJRM"
      },
      "source": [
        "<a name=\"Training\"></a>\n",
        "## **Training**\n"
      ]
    },
    {
      "cell_type": "markdown",
      "metadata": {
        "id": "Mr7zZtenR8sh"
      },
      "source": [
        "<a href=\"https://ibb.co/gV2rqgz\"><img src=\"https://i.ibb.co/FVrhZ7g/bias-weights2.png\" alt=\"bias-weights2\" border=\"0\"></a>\n"
      ]
    },
    {
      "cell_type": "code",
      "metadata": {
        "id": "YEwUgPH-ozUA"
      },
      "source": [
        "from tensorflow.keras.layers import Dense, Input, InputLayer\n",
        "\n",
        "model = tf.keras.Sequential()\n",
        "model.add(InputLayer(input_shape=2))\n",
        "model.add(Dense(1))"
      ],
      "execution_count": 25,
      "outputs": []
    },
    {
      "cell_type": "code",
      "metadata": {
        "id": "MLByc9DT9uyC"
      },
      "source": [
        "model.compile(loss='mean_squared_error')"
      ],
      "execution_count": 26,
      "outputs": []
    },
    {
      "cell_type": "code",
      "metadata": {
        "colab": {
          "base_uri": "https://localhost:8080/"
        },
        "id": "INjyXbMx9wbP",
        "outputId": "31a6d65c-7324-4cc9-eba0-6b016756ab92"
      },
      "source": [
        "model.fit(X_train, y_train, epochs=100, verbose=True, validation_split=0.1)\n",
        "print(\"Finished training the model\")"
      ],
      "execution_count": 27,
      "outputs": [
        {
          "output_type": "stream",
          "name": "stdout",
          "text": [
            "Epoch 1/100\n",
            "3/3 [==============================] - 2s 86ms/step - loss: 1922904960.0000 - val_loss: 1655093632.0000\n",
            "Epoch 2/100\n",
            "3/3 [==============================] - 0s 14ms/step - loss: 1893956992.0000 - val_loss: 1636012032.0000\n",
            "Epoch 3/100\n",
            "3/3 [==============================] - 0s 13ms/step - loss: 1873969152.0000 - val_loss: 1620642304.0000\n",
            "Epoch 4/100\n",
            "3/3 [==============================] - 0s 13ms/step - loss: 1856670848.0000 - val_loss: 1606362240.0000\n",
            "Epoch 5/100\n",
            "3/3 [==============================] - 0s 14ms/step - loss: 1840695296.0000 - val_loss: 1592990848.0000\n",
            "Epoch 6/100\n",
            "3/3 [==============================] - 0s 15ms/step - loss: 1825620096.0000 - val_loss: 1580218496.0000\n",
            "Epoch 7/100\n",
            "3/3 [==============================] - 0s 14ms/step - loss: 1811051136.0000 - val_loss: 1567704320.0000\n",
            "Epoch 8/100\n",
            "3/3 [==============================] - 0s 13ms/step - loss: 1797236096.0000 - val_loss: 1555952512.0000\n",
            "Epoch 9/100\n",
            "3/3 [==============================] - 0s 13ms/step - loss: 1783512576.0000 - val_loss: 1544004480.0000\n",
            "Epoch 10/100\n",
            "3/3 [==============================] - 0s 13ms/step - loss: 1769990656.0000 - val_loss: 1532349952.0000\n",
            "Epoch 11/100\n",
            "3/3 [==============================] - 0s 14ms/step - loss: 1756547456.0000 - val_loss: 1520673536.0000\n",
            "Epoch 12/100\n",
            "3/3 [==============================] - 0s 13ms/step - loss: 1743144960.0000 - val_loss: 1509007488.0000\n",
            "Epoch 13/100\n",
            "3/3 [==============================] - 0s 13ms/step - loss: 1729857280.0000 - val_loss: 1497524736.0000\n",
            "Epoch 14/100\n",
            "3/3 [==============================] - 0s 17ms/step - loss: 1716945408.0000 - val_loss: 1486373760.0000\n",
            "Epoch 15/100\n",
            "3/3 [==============================] - 0s 13ms/step - loss: 1703961088.0000 - val_loss: 1474976128.0000\n",
            "Epoch 16/100\n",
            "3/3 [==============================] - 0s 14ms/step - loss: 1690949376.0000 - val_loss: 1463727232.0000\n",
            "Epoch 17/100\n",
            "3/3 [==============================] - 0s 13ms/step - loss: 1678054912.0000 - val_loss: 1452528768.0000\n",
            "Epoch 18/100\n",
            "3/3 [==============================] - 0s 14ms/step - loss: 1665235072.0000 - val_loss: 1441359744.0000\n",
            "Epoch 19/100\n",
            "3/3 [==============================] - 0s 13ms/step - loss: 1652612480.0000 - val_loss: 1430340096.0000\n",
            "Epoch 20/100\n",
            "3/3 [==============================] - 0s 15ms/step - loss: 1639884288.0000 - val_loss: 1419387136.0000\n",
            "Epoch 21/100\n",
            "3/3 [==============================] - 0s 13ms/step - loss: 1627476352.0000 - val_loss: 1408672640.0000\n",
            "Epoch 22/100\n",
            "3/3 [==============================] - 0s 13ms/step - loss: 1615052160.0000 - val_loss: 1397734016.0000\n",
            "Epoch 23/100\n",
            "3/3 [==============================] - 0s 13ms/step - loss: 1602679936.0000 - val_loss: 1387060736.0000\n",
            "Epoch 24/100\n",
            "3/3 [==============================] - 0s 14ms/step - loss: 1590423424.0000 - val_loss: 1376337024.0000\n",
            "Epoch 25/100\n",
            "3/3 [==============================] - 0s 13ms/step - loss: 1578018304.0000 - val_loss: 1365450880.0000\n",
            "Epoch 26/100\n",
            "3/3 [==============================] - 0s 13ms/step - loss: 1565569920.0000 - val_loss: 1354703872.0000\n",
            "Epoch 27/100\n",
            "3/3 [==============================] - 0s 13ms/step - loss: 1553243136.0000 - val_loss: 1343864960.0000\n",
            "Epoch 28/100\n",
            "3/3 [==============================] - 0s 14ms/step - loss: 1540910976.0000 - val_loss: 1333311872.0000\n",
            "Epoch 29/100\n",
            "3/3 [==============================] - 0s 15ms/step - loss: 1528897536.0000 - val_loss: 1322817536.0000\n",
            "Epoch 30/100\n",
            "3/3 [==============================] - 0s 18ms/step - loss: 1516862592.0000 - val_loss: 1312383872.0000\n",
            "Epoch 31/100\n",
            "3/3 [==============================] - 0s 13ms/step - loss: 1504889600.0000 - val_loss: 1301981312.0000\n",
            "Epoch 32/100\n",
            "3/3 [==============================] - 0s 13ms/step - loss: 1493026176.0000 - val_loss: 1291573376.0000\n",
            "Epoch 33/100\n",
            "3/3 [==============================] - 0s 13ms/step - loss: 1480996992.0000 - val_loss: 1281118080.0000\n",
            "Epoch 34/100\n",
            "3/3 [==============================] - 0s 13ms/step - loss: 1469047808.0000 - val_loss: 1270813952.0000\n",
            "Epoch 35/100\n",
            "3/3 [==============================] - 0s 13ms/step - loss: 1457225344.0000 - val_loss: 1260499200.0000\n",
            "Epoch 36/100\n",
            "3/3 [==============================] - 0s 14ms/step - loss: 1445361920.0000 - val_loss: 1250155264.0000\n",
            "Epoch 37/100\n",
            "3/3 [==============================] - 0s 14ms/step - loss: 1433526272.0000 - val_loss: 1239868928.0000\n",
            "Epoch 38/100\n",
            "3/3 [==============================] - 0s 14ms/step - loss: 1421858944.0000 - val_loss: 1229764352.0000\n",
            "Epoch 39/100\n",
            "3/3 [==============================] - 0s 14ms/step - loss: 1410145664.0000 - val_loss: 1219517056.0000\n",
            "Epoch 40/100\n",
            "3/3 [==============================] - 0s 13ms/step - loss: 1398430720.0000 - val_loss: 1209361664.0000\n",
            "Epoch 41/100\n",
            "3/3 [==============================] - 0s 14ms/step - loss: 1386816256.0000 - val_loss: 1199283200.0000\n",
            "Epoch 42/100\n",
            "3/3 [==============================] - 0s 17ms/step - loss: 1375341440.0000 - val_loss: 1189303424.0000\n",
            "Epoch 43/100\n",
            "3/3 [==============================] - 0s 13ms/step - loss: 1363819136.0000 - val_loss: 1179267968.0000\n",
            "Epoch 44/100\n",
            "3/3 [==============================] - 0s 16ms/step - loss: 1352325760.0000 - val_loss: 1169276544.0000\n",
            "Epoch 45/100\n",
            "3/3 [==============================] - 0s 13ms/step - loss: 1340852992.0000 - val_loss: 1159296640.0000\n",
            "Epoch 46/100\n",
            "3/3 [==============================] - 0s 13ms/step - loss: 1329469056.0000 - val_loss: 1149481472.0000\n",
            "Epoch 47/100\n",
            "3/3 [==============================] - 0s 15ms/step - loss: 1318347520.0000 - val_loss: 1139830400.0000\n",
            "Epoch 48/100\n",
            "3/3 [==============================] - 0s 14ms/step - loss: 1307183360.0000 - val_loss: 1130107904.0000\n",
            "Epoch 49/100\n",
            "3/3 [==============================] - 0s 14ms/step - loss: 1296146560.0000 - val_loss: 1120547584.0000\n",
            "Epoch 50/100\n",
            "3/3 [==============================] - 0s 14ms/step - loss: 1285007360.0000 - val_loss: 1110714368.0000\n",
            "Epoch 51/100\n",
            "3/3 [==============================] - 0s 14ms/step - loss: 1273820672.0000 - val_loss: 1101133312.0000\n",
            "Epoch 52/100\n",
            "3/3 [==============================] - 0s 13ms/step - loss: 1262767360.0000 - val_loss: 1091459584.0000\n",
            "Epoch 53/100\n",
            "3/3 [==============================] - 0s 14ms/step - loss: 1251709824.0000 - val_loss: 1081907328.0000\n",
            "Epoch 54/100\n",
            "3/3 [==============================] - 0s 13ms/step - loss: 1240762624.0000 - val_loss: 1072398528.0000\n",
            "Epoch 55/100\n",
            "3/3 [==============================] - 0s 14ms/step - loss: 1229842432.0000 - val_loss: 1062801984.0000\n",
            "Epoch 56/100\n",
            "3/3 [==============================] - 0s 14ms/step - loss: 1218969600.0000 - val_loss: 1053446144.0000\n",
            "Epoch 57/100\n",
            "3/3 [==============================] - 0s 14ms/step - loss: 1208190720.0000 - val_loss: 1044195136.0000\n",
            "Epoch 58/100\n",
            "3/3 [==============================] - 0s 14ms/step - loss: 1197616256.0000 - val_loss: 1034950720.0000\n",
            "Epoch 59/100\n",
            "3/3 [==============================] - 0s 13ms/step - loss: 1186989440.0000 - val_loss: 1025768896.0000\n",
            "Epoch 60/100\n",
            "3/3 [==============================] - 0s 14ms/step - loss: 1176431360.0000 - val_loss: 1016504512.0000\n",
            "Epoch 61/100\n",
            "3/3 [==============================] - 0s 13ms/step - loss: 1165866752.0000 - val_loss: 1007442304.0000\n",
            "Epoch 62/100\n",
            "3/3 [==============================] - 0s 13ms/step - loss: 1155446016.0000 - val_loss: 998294464.0000\n",
            "Epoch 63/100\n",
            "3/3 [==============================] - 0s 14ms/step - loss: 1144973824.0000 - val_loss: 989291776.0000\n",
            "Epoch 64/100\n",
            "3/3 [==============================] - 0s 14ms/step - loss: 1134660992.0000 - val_loss: 980345216.0000\n",
            "Epoch 65/100\n",
            "3/3 [==============================] - 0s 15ms/step - loss: 1124334080.0000 - val_loss: 971317632.0000\n",
            "Epoch 66/100\n",
            "3/3 [==============================] - 0s 13ms/step - loss: 1114010496.0000 - val_loss: 962388416.0000\n",
            "Epoch 67/100\n",
            "3/3 [==============================] - 0s 14ms/step - loss: 1103832448.0000 - val_loss: 953572544.0000\n",
            "Epoch 68/100\n",
            "3/3 [==============================] - 0s 14ms/step - loss: 1093788160.0000 - val_loss: 944875136.0000\n",
            "Epoch 69/100\n",
            "3/3 [==============================] - 0s 28ms/step - loss: 1083740416.0000 - val_loss: 936102144.0000\n",
            "Epoch 70/100\n",
            "3/3 [==============================] - 0s 13ms/step - loss: 1073588800.0000 - val_loss: 927224832.0000\n",
            "Epoch 71/100\n",
            "3/3 [==============================] - 0s 14ms/step - loss: 1063441856.0000 - val_loss: 918501440.0000\n",
            "Epoch 72/100\n",
            "3/3 [==============================] - 0s 13ms/step - loss: 1053421056.0000 - val_loss: 909766848.0000\n",
            "Epoch 73/100\n",
            "3/3 [==============================] - 0s 13ms/step - loss: 1043526592.0000 - val_loss: 901258880.0000\n",
            "Epoch 74/100\n",
            "3/3 [==============================] - 0s 14ms/step - loss: 1033620352.0000 - val_loss: 892581952.0000\n",
            "Epoch 75/100\n",
            "3/3 [==============================] - 0s 13ms/step - loss: 1023685568.0000 - val_loss: 884002048.0000\n",
            "Epoch 76/100\n",
            "3/3 [==============================] - 0s 15ms/step - loss: 1014056768.0000 - val_loss: 875717440.0000\n",
            "Epoch 77/100\n",
            "3/3 [==============================] - 0s 13ms/step - loss: 1004431744.0000 - val_loss: 867375680.0000\n",
            "Epoch 78/100\n",
            "3/3 [==============================] - 0s 13ms/step - loss: 994783296.0000 - val_loss: 858931008.0000\n",
            "Epoch 79/100\n",
            "3/3 [==============================] - 0s 13ms/step - loss: 985125504.0000 - val_loss: 850602176.0000\n",
            "Epoch 80/100\n",
            "3/3 [==============================] - 0s 13ms/step - loss: 975561472.0000 - val_loss: 842299584.0000\n",
            "Epoch 81/100\n",
            "3/3 [==============================] - 0s 13ms/step - loss: 965996224.0000 - val_loss: 833987136.0000\n",
            "Epoch 82/100\n",
            "3/3 [==============================] - 0s 14ms/step - loss: 956465664.0000 - val_loss: 825739840.0000\n",
            "Epoch 83/100\n",
            "3/3 [==============================] - 0s 13ms/step - loss: 947006720.0000 - val_loss: 817514496.0000\n",
            "Epoch 84/100\n",
            "3/3 [==============================] - 0s 15ms/step - loss: 937797184.0000 - val_loss: 809604544.0000\n",
            "Epoch 85/100\n",
            "3/3 [==============================] - 0s 14ms/step - loss: 928490496.0000 - val_loss: 801406400.0000\n",
            "Epoch 86/100\n",
            "3/3 [==============================] - 0s 13ms/step - loss: 919093248.0000 - val_loss: 793321728.0000\n",
            "Epoch 87/100\n",
            "3/3 [==============================] - 0s 14ms/step - loss: 909858752.0000 - val_loss: 785359104.0000\n",
            "Epoch 88/100\n",
            "3/3 [==============================] - 0s 14ms/step - loss: 900733952.0000 - val_loss: 777469952.0000\n",
            "Epoch 89/100\n",
            "3/3 [==============================] - 0s 13ms/step - loss: 891702400.0000 - val_loss: 769738304.0000\n",
            "Epoch 90/100\n",
            "3/3 [==============================] - 0s 14ms/step - loss: 882775296.0000 - val_loss: 761918272.0000\n",
            "Epoch 91/100\n",
            "3/3 [==============================] - 0s 14ms/step - loss: 873868544.0000 - val_loss: 754226624.0000\n",
            "Epoch 92/100\n",
            "3/3 [==============================] - 0s 14ms/step - loss: 864930368.0000 - val_loss: 746453248.0000\n",
            "Epoch 93/100\n",
            "3/3 [==============================] - 0s 15ms/step - loss: 856015168.0000 - val_loss: 738742656.0000\n",
            "Epoch 94/100\n",
            "3/3 [==============================] - 0s 14ms/step - loss: 847157888.0000 - val_loss: 731065792.0000\n",
            "Epoch 95/100\n",
            "3/3 [==============================] - 0s 15ms/step - loss: 838328320.0000 - val_loss: 723353792.0000\n",
            "Epoch 96/100\n",
            "3/3 [==============================] - 0s 14ms/step - loss: 829471872.0000 - val_loss: 715731712.0000\n",
            "Epoch 97/100\n",
            "3/3 [==============================] - 0s 21ms/step - loss: 820900800.0000 - val_loss: 708400704.0000\n",
            "Epoch 98/100\n",
            "3/3 [==============================] - 0s 14ms/step - loss: 812363968.0000 - val_loss: 700977216.0000\n",
            "Epoch 99/100\n",
            "3/3 [==============================] - 0s 13ms/step - loss: 803956096.0000 - val_loss: 693724992.0000\n",
            "Epoch 100/100\n",
            "3/3 [==============================] - 0s 12ms/step - loss: 795480576.0000 - val_loss: 686347840.0000\n",
            "Finished training the model\n"
          ]
        }
      ]
    },
    {
      "cell_type": "markdown",
      "metadata": {
        "id": "PeDTcLsryA5l"
      },
      "source": [
        "<a href=\"https://ibb.co/gV2rqgz\"><img src=\"https://i.ibb.co/FVrhZ7g/bias-weights2.png\" alt=\"bias-weights2\" border=\"0\"></a>"
      ]
    },
    {
      "cell_type": "code",
      "metadata": {
        "colab": {
          "base_uri": "https://localhost:8080/"
        },
        "id": "tZcz-SttqoCw",
        "outputId": "a0b33899-9757-4721-b126-89e3620c10b5"
      },
      "source": [
        "# Weight\n",
        "model.layers[0].get_weights()[0]"
      ],
      "execution_count": 29,
      "outputs": [
        {
          "output_type": "execute_result",
          "data": {
            "text/plain": [
              "array([[-0.31586924],\n",
              "       [-0.07360031]], dtype=float32)"
            ]
          },
          "metadata": {},
          "execution_count": 29
        }
      ]
    },
    {
      "cell_type": "code",
      "metadata": {
        "colab": {
          "base_uri": "https://localhost:8080/"
        },
        "id": "UXmZbC4Xqpce",
        "outputId": "2dfa2a38-d279-4dfb-83cc-105a344ad3c3"
      },
      "source": [
        "# Bias\n",
        "model.layers[0].get_weights()[1]"
      ],
      "execution_count": 30,
      "outputs": [
        {
          "output_type": "execute_result",
          "data": {
            "text/plain": [
              "array([0.30532113], dtype=float32)"
            ]
          },
          "metadata": {},
          "execution_count": 30
        }
      ]
    },
    {
      "cell_type": "code",
      "metadata": {
        "colab": {
          "base_uri": "https://localhost:8080/"
        },
        "id": "MEA_UFbZ0vHA",
        "outputId": "6b30a6b8-74bc-446d-8fe6-41f1df280205"
      },
      "source": [
        "y_pred = model.predict(X_test)\n",
        "print('Predicted Values', y_pred[0:5].round().tolist())\n",
        "print('Actual Values', y_test[0:5].tolist())"
      ],
      "execution_count": 31,
      "outputs": [
        {
          "output_type": "stream",
          "name": "stdout",
          "text": [
            "2/2 [==============================] - 0s 5ms/step\n",
            "Predicted Values [[-8843.0], [-3831.0], [-24542.0], [-11046.0], [-20381.0]]\n",
            "Actual Values [13663, 15992, 10815, 13383, 13425]\n"
          ]
        }
      ]
    },
    {
      "cell_type": "code",
      "metadata": {
        "colab": {
          "base_uri": "https://localhost:8080/"
        },
        "id": "-5bdOJknn5cG",
        "outputId": "3960032b-acb6-4831-96a6-7406e78e7800"
      },
      "source": [
        "# Accuracy (Root Mean Squared Error)\n",
        "from sklearn.metrics import mean_squared_error\n",
        "mean_squared_error(y_test, y_pred, squared=False)"
      ],
      "execution_count": 32,
      "outputs": [
        {
          "output_type": "execute_result",
          "data": {
            "text/plain": [
              "27558.787896763042"
            ]
          },
          "metadata": {},
          "execution_count": 32
        }
      ]
    },
    {
      "cell_type": "code",
      "metadata": {
        "id": "chtfUjAZJ6bQ"
      },
      "source": [],
      "execution_count": null,
      "outputs": []
    }
  ]
}