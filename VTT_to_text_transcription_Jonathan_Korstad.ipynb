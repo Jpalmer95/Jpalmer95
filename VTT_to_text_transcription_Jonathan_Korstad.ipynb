{
  "nbformat": 4,
  "nbformat_minor": 0,
  "metadata": {
    "colab": {
      "provenance": [],
      "authorship_tag": "ABX9TyNb2qg6flXVLdbfyfxrmT5x",
      "include_colab_link": true
    },
    "kernelspec": {
      "name": "python3",
      "display_name": "Python 3"
    },
    "language_info": {
      "name": "python"
    }
  },
  "cells": [
    {
      "cell_type": "markdown",
      "metadata": {
        "id": "view-in-github",
        "colab_type": "text"
      },
      "source": [
        "<a href=\"https://colab.research.google.com/github/Jpalmer95/Jpalmer95/blob/main/VTT_to_text_transcription_Jonathan_Korstad.ipynb\" target=\"_parent\"><img src=\"https://colab.research.google.com/assets/colab-badge.svg\" alt=\"Open In Colab\"/></a>"
      ]
    },
    {
      "cell_type": "code",
      "execution_count": 18,
      "metadata": {
        "colab": {
          "base_uri": "https://localhost:8080/"
        },
        "id": "SeL9nsITJnGU",
        "outputId": "5ca4c193-c8a1-4800-ffa4-8540dd7e43d7"
      },
      "outputs": [
        {
          "output_type": "stream",
          "name": "stdout",
          "text": [
            "\n",
            "If you know me, you know I'm\n",
            "always excited to talk about\n",
            "\n",
            "Test.\n",
            "\n",
            "Also, as mentioned before, it\n",
            "will be recorded.\n",
            "\n",
            "If you know me, you know I'm\n",
            "always excited to talk about\n",
            "\n",
            "Test.\n",
            "\n",
            "Also, as mentioned before, it\n",
            "will be recorded.\n",
            "\n",
            "If you know me, you know I'm\n",
            "always excited to talk about\n",
            "\n",
            "Test.\n",
            "\n",
            "Also, as mentioned before, it\n",
            "will be recorded.\n"
          ]
        }
      ],
      "source": [
        "import re\n",
        "\n",
        "\n",
        "# Define the regular expression patterns\n",
        "timestamp_pattern = r'\\d{2}:\\d{2}:\\d{2}.\\d{3}'\n",
        "encryption_pattern = r'^\\w{8}-\\w{4}-\\w{4}-\\w{4}-\\w{12}/\\w{3}-\\w$'\n",
        "webvtt_pattern = r'WEBVTT'\n",
        "\n",
        "# Read the input file and process each line\n",
        "with open('test.vtt', 'r') as f:\n",
        "    for line in f:\n",
        "        # Remove leading and trailing whitespace\n",
        "        line = line.strip()\n",
        "\n",
        "        # Check if the line matches either pattern\n",
        "        if re.match(webvtt_pattern, line):\n",
        "            continue\n",
        "        elif re.match(timestamp_pattern, line):\n",
        "            continue\n",
        "        elif re.match(encryption_pattern, line):\n",
        "            continue\n",
        "\n",
        "        # Print the cleaned up line\n",
        "        print(line)"
      ]
    },
    {
      "cell_type": "code",
      "source": [],
      "metadata": {
        "id": "H_Imaos_No2B"
      },
      "execution_count": null,
      "outputs": []
    }
  ]
}